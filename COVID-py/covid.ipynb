{
 "cells": [
  {
   "cell_type": "markdown",
   "metadata": {},
   "source": [
    "# COVID-19 Data Analysis"
   ]
  },
  {
   "cell_type": "code",
   "execution_count": null,
   "metadata": {},
   "outputs": [],
   "source": [
    "import os\n",
    "import pandas as pd\n",
    "from datetime import date\n",
    "import matplotlib.pyplot as plt\n",
    "import numpy as np\n",
    "from scipy.interpolate import make_interp_spline, BSpline"
   ]
  },
  {
   "cell_type": "code",
   "execution_count": null,
   "metadata": {},
   "outputs": [],
   "source": [
    "today = date.today()\n",
    "data_dir = 'data'\n",
    "us_data_dir = data_dir + '/us'\n",
    "global_data_dir = data_dir + '/global'\n",
    "\n",
    "if not os.path.exists(data_dir):\n",
    "    os.mkdir(data_dir)\n",
    "if not os.path.exists(us_data_dir):\n",
    "    os.mkdir(us_data_dir)\n",
    "if not os.path.exists(global_data_dir):\n",
    "    os.mkdir(global_data_dir)\n",
    "\n",
    "for dir in [us_data_dir, global_data_dir]:\n",
    "    file_list = [f for f in os.listdir(dir)]\n",
    "    for f in file_list:\n",
    "        if str(today) != str(f)[:len(str(today))]:\n",
    "            os.remove(os.path.join(dir, f))"
   ]
  },
  {
   "cell_type": "markdown",
   "metadata": {},
   "source": [
    "## Get John Hopkins Data from GitHub"
   ]
  },
  {
   "cell_type": "code",
   "execution_count": null,
   "metadata": {},
   "outputs": [],
   "source": [
    "def get_corona_data(case_type, scope):\n",
    "    if not os.path.exists(f'./data/{scope}/{today}_{case_type}'):\n",
    "        csv_url = f'https://raw.githubusercontent.com/CSSEGISandData/COVID-19/master/csse_covid_19_data/csse_covid_19_time_series/time_series_covid19_{case_type}_{scope}.csv'\n",
    "        df = pd.read_csv(csv_url)\n",
    "        df.to_csv(f'./data/{scope}/{today}_{case_type}')"
   ]
  },
  {
   "cell_type": "markdown",
   "metadata": {},
   "source": [
    "## Summary of Data\n",
    "\n",
    "Get the amount of confirmed cases, deaths, and the fatality rate"
   ]
  },
  {
   "cell_type": "code",
   "execution_count": null,
   "metadata": {},
   "outputs": [],
   "source": [
    "def get_case_count(case_type, scope):\n",
    "    df = pd.read_csv(f'./data/{scope}/{today}_{case_type}')\n",
    "    count = df[df.columns[-1]].sum()\n",
    "    return count"
   ]
  },
  {
   "cell_type": "code",
   "execution_count": null,
   "metadata": {},
   "outputs": [],
   "source": [
    "def fatality_rate(confirmed_cases, deaths):\n",
    "    return round(deaths / confirmed_cases * 100, 2)"
   ]
  },
  {
   "cell_type": "markdown",
   "metadata": {},
   "source": [
    "## US Data"
   ]
  },
  {
   "cell_type": "code",
   "execution_count": null,
   "metadata": {},
   "outputs": [],
   "source": [
    "get_corona_data('confirmed', 'US')\n",
    "get_corona_data('deaths', 'US')\n",
    "us_confirmed_cases = get_case_count('confirmed', 'US')\n",
    "us_deaths = get_case_count('deaths', 'US')\n",
    "us_fatality_rate = fatality_rate(us_confirmed_cases, us_deaths)"
   ]
  },
  {
   "cell_type": "code",
   "execution_count": null,
   "metadata": {},
   "outputs": [],
   "source": [
    "longest_title = len('Confirmed Cases: ')\n",
    "longest_number = len('1,000,000')\n",
    "print('Confirmed Cases:'.ljust(longest_title), f'{us_confirmed_cases:,}'.rjust(longest_number))\n",
    "print(f'Deaths:'.ljust(longest_title), f'{us_deaths:,}'.rjust(longest_number))\n",
    "print('Fatality Rate:'.ljust(longest_title), f'{us_fatality_rate}%'.rjust(longest_number))"
   ]
  },
  {
   "cell_type": "markdown",
   "metadata": {},
   "source": [
    "## Global Data"
   ]
  },
  {
   "cell_type": "code",
   "execution_count": null,
   "metadata": {},
   "outputs": [],
   "source": [
    "get_corona_data('confirmed', 'global')\n",
    "get_corona_data('deaths', 'global')\n",
    "global_confirmed_cases = get_case_count('confirmed', 'global')\n",
    "global_deaths = get_case_count('deaths', 'global')\n",
    "global_fatality_rate = fatality_rate(global_confirmed_cases, global_deaths)"
   ]
  },
  {
   "cell_type": "code",
   "execution_count": null,
   "metadata": {},
   "outputs": [],
   "source": [
    "print('Confirmed Cases:'.ljust(longest_title), f'{global_confirmed_cases:,}'.rjust(longest_number))\n",
    "print(f'Deaths:'.ljust(longest_title), f'{global_deaths:,}'.rjust(longest_number))\n",
    "print('Fatality Rate:'.ljust(longest_title), f'{global_fatality_rate}%'.rjust(longest_number))"
   ]
  },
  {
   "cell_type": "code",
   "execution_count": null,
   "metadata": {},
   "outputs": [],
   "source": [
    "def get_df(case_type, scope):\n",
    "    df = pd.read_csv(f'./data/{scope}/{today}_{case_type}')\n",
    "    return(df.loc[:, '1/22/20':])\n",
    "\n",
    "us_confirmed_ts = get_df('confirmed', 'us').sum()\n",
    "us_deaths_ts = get_df('deaths', 'us').sum()"
   ]
  },
  {
   "cell_type": "code",
   "execution_count": null,
   "metadata": {},
   "outputs": [],
   "source": [
    "daily_cases = np.array([us_confirmed_ts[i] - us_confirmed_ts[i-1] for i in range(1, len(us_confirmed_ts))])\n",
    "daily_deaths = np.array([us_deaths_ts[i] - us_deaths_ts[i-1] for i in range(1, len(us_deaths_ts))])\n",
    "x = np.arange(0, len(daily_cases))"
   ]
  },
  {
   "cell_type": "code",
   "execution_count": null,
   "metadata": {},
   "outputs": [],
   "source": [
    "plt.plot(daily_cases)"
   ]
  },
  {
   "cell_type": "code",
   "execution_count": null,
   "metadata": {},
   "outputs": [],
   "source": [
    "plt.plot(daily_deaths)"
   ]
  }
 ],
 "metadata": {
  "language_info": {
   "name": "python",
   "codemirror_mode": {
    "name": "ipython",
    "version": 3
   },
   "version": "3.7.4-final"
  },
  "orig_nbformat": 2,
  "file_extension": ".py",
  "mimetype": "text/x-python",
  "name": "python",
  "npconvert_exporter": "python",
  "pygments_lexer": "ipython3",
  "version": 3,
  "kernelspec": {
   "name": "python3",
   "display_name": "Python 3"
  }
 },
 "nbformat": 4,
 "nbformat_minor": 2
}